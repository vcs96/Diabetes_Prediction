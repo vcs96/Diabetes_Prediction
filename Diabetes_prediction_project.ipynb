{
 "cells": [
  {
   "cell_type": "code",
   "execution_count": 3,
   "metadata": {},
   "outputs": [],
   "source": [
    "import pandas as pd\n",
    "import numpy as np \n",
    "import seaborn as sns\n",
    "import matplotlib.pyplot as plt\n",
    "%matplotlib inline \n",
    "\n",
    "from sklearn.linear_model import LogisticRegression\n",
    "from sklearn.neighbors import KNeighborsClassifier\n",
    "from sklearn.svm import SVC\n",
    "from sklearn.naive_bayes import GaussianNB\n",
    "from sklearn.ensemble import RandomForestClassifier\n",
    "from sklearn.tree import DecisionTreeClassifier\n",
    "\n",
    "import joblib as jb"
   ]
  },
  {
   "cell_type": "code",
   "execution_count": 4,
   "metadata": {},
   "outputs": [
    {
     "name": "stdout",
     "output_type": "stream",
     "text": [
      "(768, 9)\n"
     ]
    },
    {
     "data": {
      "text/html": [
       "<div>\n",
       "<style scoped>\n",
       "    .dataframe tbody tr th:only-of-type {\n",
       "        vertical-align: middle;\n",
       "    }\n",
       "\n",
       "    .dataframe tbody tr th {\n",
       "        vertical-align: top;\n",
       "    }\n",
       "\n",
       "    .dataframe thead th {\n",
       "        text-align: right;\n",
       "    }\n",
       "</style>\n",
       "<table border=\"1\" class=\"dataframe\">\n",
       "  <thead>\n",
       "    <tr style=\"text-align: right;\">\n",
       "      <th></th>\n",
       "      <th>Pregnancies</th>\n",
       "      <th>Glucose</th>\n",
       "      <th>BloodPressure</th>\n",
       "      <th>SkinThickness</th>\n",
       "      <th>Insulin</th>\n",
       "      <th>BMI</th>\n",
       "      <th>DiabetesPedigreeFunction</th>\n",
       "      <th>Age</th>\n",
       "      <th>Outcome</th>\n",
       "    </tr>\n",
       "  </thead>\n",
       "  <tbody>\n",
       "    <tr>\n",
       "      <th>0</th>\n",
       "      <td>6</td>\n",
       "      <td>148</td>\n",
       "      <td>72</td>\n",
       "      <td>35</td>\n",
       "      <td>0</td>\n",
       "      <td>33.6</td>\n",
       "      <td>0.627</td>\n",
       "      <td>50</td>\n",
       "      <td>1</td>\n",
       "    </tr>\n",
       "    <tr>\n",
       "      <th>1</th>\n",
       "      <td>1</td>\n",
       "      <td>85</td>\n",
       "      <td>66</td>\n",
       "      <td>29</td>\n",
       "      <td>0</td>\n",
       "      <td>26.6</td>\n",
       "      <td>0.351</td>\n",
       "      <td>31</td>\n",
       "      <td>0</td>\n",
       "    </tr>\n",
       "    <tr>\n",
       "      <th>2</th>\n",
       "      <td>8</td>\n",
       "      <td>183</td>\n",
       "      <td>64</td>\n",
       "      <td>0</td>\n",
       "      <td>0</td>\n",
       "      <td>23.3</td>\n",
       "      <td>0.672</td>\n",
       "      <td>32</td>\n",
       "      <td>1</td>\n",
       "    </tr>\n",
       "    <tr>\n",
       "      <th>3</th>\n",
       "      <td>1</td>\n",
       "      <td>89</td>\n",
       "      <td>66</td>\n",
       "      <td>23</td>\n",
       "      <td>94</td>\n",
       "      <td>28.1</td>\n",
       "      <td>0.167</td>\n",
       "      <td>21</td>\n",
       "      <td>0</td>\n",
       "    </tr>\n",
       "    <tr>\n",
       "      <th>4</th>\n",
       "      <td>0</td>\n",
       "      <td>137</td>\n",
       "      <td>40</td>\n",
       "      <td>35</td>\n",
       "      <td>168</td>\n",
       "      <td>43.1</td>\n",
       "      <td>2.288</td>\n",
       "      <td>33</td>\n",
       "      <td>1</td>\n",
       "    </tr>\n",
       "  </tbody>\n",
       "</table>\n",
       "</div>"
      ],
      "text/plain": [
       "   Pregnancies  Glucose  BloodPressure  SkinThickness  Insulin   BMI  \\\n",
       "0            6      148             72             35        0  33.6   \n",
       "1            1       85             66             29        0  26.6   \n",
       "2            8      183             64              0        0  23.3   \n",
       "3            1       89             66             23       94  28.1   \n",
       "4            0      137             40             35      168  43.1   \n",
       "\n",
       "   DiabetesPedigreeFunction  Age  Outcome  \n",
       "0                     0.627   50        1  \n",
       "1                     0.351   31        0  \n",
       "2                     0.672   32        1  \n",
       "3                     0.167   21        0  \n",
       "4                     2.288   33        1  "
      ]
     },
     "execution_count": 4,
     "metadata": {},
     "output_type": "execute_result"
    }
   ],
   "source": [
    "diabetesDF = pd.read_csv('diabetes.csv')\n",
    "print(diabetesDF.shape)\n",
    "diabetesDF.head()"
   ]
  },
  {
   "cell_type": "code",
   "execution_count": 5,
   "metadata": {},
   "outputs": [
    {
     "data": {
      "text/html": [
       "<div>\n",
       "<style scoped>\n",
       "    .dataframe tbody tr th:only-of-type {\n",
       "        vertical-align: middle;\n",
       "    }\n",
       "\n",
       "    .dataframe tbody tr th {\n",
       "        vertical-align: top;\n",
       "    }\n",
       "\n",
       "    .dataframe thead th {\n",
       "        text-align: right;\n",
       "    }\n",
       "</style>\n",
       "<table border=\"1\" class=\"dataframe\">\n",
       "  <thead>\n",
       "    <tr style=\"text-align: right;\">\n",
       "      <th></th>\n",
       "      <th>Pregnancies</th>\n",
       "      <th>Glucose</th>\n",
       "      <th>BloodPressure</th>\n",
       "      <th>SkinThickness</th>\n",
       "      <th>Insulin</th>\n",
       "      <th>BMI</th>\n",
       "      <th>DiabetesPedigreeFunction</th>\n",
       "      <th>Age</th>\n",
       "      <th>Outcome</th>\n",
       "    </tr>\n",
       "  </thead>\n",
       "  <tbody>\n",
       "    <tr>\n",
       "      <th>408</th>\n",
       "      <td>8</td>\n",
       "      <td>197</td>\n",
       "      <td>74</td>\n",
       "      <td>0</td>\n",
       "      <td>0</td>\n",
       "      <td>25.9</td>\n",
       "      <td>1.191</td>\n",
       "      <td>39</td>\n",
       "      <td>1</td>\n",
       "    </tr>\n",
       "    <tr>\n",
       "      <th>157</th>\n",
       "      <td>1</td>\n",
       "      <td>109</td>\n",
       "      <td>56</td>\n",
       "      <td>21</td>\n",
       "      <td>135</td>\n",
       "      <td>25.2</td>\n",
       "      <td>0.833</td>\n",
       "      <td>23</td>\n",
       "      <td>0</td>\n",
       "    </tr>\n",
       "    <tr>\n",
       "      <th>219</th>\n",
       "      <td>5</td>\n",
       "      <td>112</td>\n",
       "      <td>66</td>\n",
       "      <td>0</td>\n",
       "      <td>0</td>\n",
       "      <td>37.8</td>\n",
       "      <td>0.261</td>\n",
       "      <td>41</td>\n",
       "      <td>1</td>\n",
       "    </tr>\n",
       "    <tr>\n",
       "      <th>401</th>\n",
       "      <td>6</td>\n",
       "      <td>137</td>\n",
       "      <td>61</td>\n",
       "      <td>0</td>\n",
       "      <td>0</td>\n",
       "      <td>24.2</td>\n",
       "      <td>0.151</td>\n",
       "      <td>55</td>\n",
       "      <td>0</td>\n",
       "    </tr>\n",
       "    <tr>\n",
       "      <th>31</th>\n",
       "      <td>3</td>\n",
       "      <td>158</td>\n",
       "      <td>76</td>\n",
       "      <td>36</td>\n",
       "      <td>245</td>\n",
       "      <td>31.6</td>\n",
       "      <td>0.851</td>\n",
       "      <td>28</td>\n",
       "      <td>1</td>\n",
       "    </tr>\n",
       "  </tbody>\n",
       "</table>\n",
       "</div>"
      ],
      "text/plain": [
       "     Pregnancies  Glucose  BloodPressure  SkinThickness  Insulin   BMI  \\\n",
       "408            8      197             74              0        0  25.9   \n",
       "157            1      109             56             21      135  25.2   \n",
       "219            5      112             66              0        0  37.8   \n",
       "401            6      137             61              0        0  24.2   \n",
       "31             3      158             76             36      245  31.6   \n",
       "\n",
       "     DiabetesPedigreeFunction  Age  Outcome  \n",
       "408                     1.191   39        1  \n",
       "157                     0.833   23        0  \n",
       "219                     0.261   41        1  \n",
       "401                     0.151   55        0  \n",
       "31                      0.851   28        1  "
      ]
     },
     "execution_count": 5,
     "metadata": {},
     "output_type": "execute_result"
    }
   ],
   "source": [
    "diabetesDF.sample(5)"
   ]
  },
  {
   "cell_type": "code",
   "execution_count": 6,
   "metadata": {
    "scrolled": true
   },
   "outputs": [
    {
     "name": "stdout",
     "output_type": "stream",
     "text": [
      "     Pregnancies  Glucose  BloodPressure  SkinThickness     Insulin   BMI  \\\n",
      "0              6    148.0           72.0      35.000000   79.799479  33.6   \n",
      "1              1     85.0           66.0      29.000000   79.799479  26.6   \n",
      "2              8    183.0           64.0      20.536458   79.799479  23.3   \n",
      "3              1     89.0           66.0      23.000000   94.000000  28.1   \n",
      "4              0    137.0           40.0      35.000000  168.000000  43.1   \n",
      "..           ...      ...            ...            ...         ...   ...   \n",
      "763           10    101.0           76.0      48.000000  180.000000  32.9   \n",
      "764            2    122.0           70.0      27.000000   79.799479  36.8   \n",
      "765            5    121.0           72.0      23.000000  112.000000  26.2   \n",
      "766            1    126.0           60.0      20.536458   79.799479  30.1   \n",
      "767            1     93.0           70.0      31.000000   79.799479  30.4   \n",
      "\n",
      "     DiabetesPedigreeFunction  Age  Outcome  \n",
      "0                       0.627   50        1  \n",
      "1                       0.351   31        0  \n",
      "2                       0.672   32        1  \n",
      "3                       0.167   21        0  \n",
      "4                       2.288   33        1  \n",
      "..                        ...  ...      ...  \n",
      "763                     0.171   63        0  \n",
      "764                     0.340   27        0  \n",
      "765                     0.245   30        0  \n",
      "766                     0.349   47        1  \n",
      "767                     0.315   23        0  \n",
      "\n",
      "[768 rows x 9 columns]\n"
     ]
    }
   ],
   "source": [
    "mean_insulin = diabetesDF['Insulin'].mean(skipna=True)\n",
    "mean_glucose = diabetesDF['Glucose'].mean(skipna=True)\n",
    "mean_BP = diabetesDF['BloodPressure'].mean(skipna=True)\n",
    "mean_BMI = diabetesDF['BMI'].mean(skipna=True)\n",
    "mean_skinthickness = diabetesDF['SkinThickness'].mean(skipna=True)\n",
    "\n",
    "diabetesDF['Insulin'] = diabetesDF.Insulin.mask(diabetesDF.Insulin == 0, mean_insulin)\n",
    "diabetesDF['Glucose'] = diabetesDF.Glucose.mask(diabetesDF.Glucose == 0, mean_glucose)\n",
    "diabetesDF['BloodPressure'] = diabetesDF.BloodPressure.mask(diabetesDF.BloodPressure == 0, mean_BP)\n",
    "diabetesDF['BMI'] = diabetesDF.BMI.mask(diabetesDF.BMI == 0, mean_BMI)\n",
    "diabetesDF['SkinThickness'] = diabetesDF.SkinThickness.mask(diabetesDF.SkinThickness == 0, mean_skinthickness)\n",
    "\n",
    "print(diabetesDF) \n",
    "# replaces the 0 value in insulin, BP, BMI, Skin thickness and glucose to the mean of all"
   ]
  },
  {
   "cell_type": "code",
   "execution_count": 7,
   "metadata": {},
   "outputs": [
    {
     "name": "stdout",
     "output_type": "stream",
     "text": [
      "                          Pregnancies   Glucose  BloodPressure  SkinThickness  \\\n",
      "Pregnancies                  1.000000  0.127964       0.208984       0.013376   \n",
      "Glucose                      0.127964  1.000000       0.219666       0.160766   \n",
      "BloodPressure                0.208984  0.219666       1.000000       0.134155   \n",
      "SkinThickness                0.013376  0.160766       0.134155       1.000000   \n",
      "Insulin                     -0.018082  0.396597       0.010926       0.240361   \n",
      "BMI                          0.021546  0.231478       0.281231       0.535703   \n",
      "DiabetesPedigreeFunction    -0.033523  0.137106       0.000371       0.154961   \n",
      "Age                          0.544341  0.266600       0.326740       0.026423   \n",
      "Outcome                      0.221898  0.492908       0.162986       0.175026   \n",
      "\n",
      "                           Insulin       BMI  DiabetesPedigreeFunction  \\\n",
      "Pregnancies              -0.018082  0.021546                 -0.033523   \n",
      "Glucose                   0.396597  0.231478                  0.137106   \n",
      "BloodPressure             0.010926  0.281231                  0.000371   \n",
      "SkinThickness             0.240361  0.535703                  0.154961   \n",
      "Insulin                   1.000000  0.189856                  0.157806   \n",
      "BMI                       0.189856  1.000000                  0.153508   \n",
      "DiabetesPedigreeFunction  0.157806  0.153508                  1.000000   \n",
      "Age                       0.038652  0.025748                  0.033561   \n",
      "Outcome                   0.179185  0.312254                  0.173844   \n",
      "\n",
      "                               Age   Outcome  \n",
      "Pregnancies               0.544341  0.221898  \n",
      "Glucose                   0.266600  0.492908  \n",
      "BloodPressure             0.326740  0.162986  \n",
      "SkinThickness             0.026423  0.175026  \n",
      "Insulin                   0.038652  0.179185  \n",
      "BMI                       0.025748  0.312254  \n",
      "DiabetesPedigreeFunction  0.033561  0.173844  \n",
      "Age                       1.000000  0.238356  \n",
      "Outcome                   0.238356  1.000000  \n"
     ]
    },
    {
     "data": {
      "text/plain": [
       "<matplotlib.axes._subplots.AxesSubplot at 0x15fc5850460>"
      ]
     },
     "execution_count": 7,
     "metadata": {},
     "output_type": "execute_result"
    },
    {
     "data": {
      "image/png": "[encoded data removed]",
      "text/plain": [
       "<Figure size 432x288 with 2 Axes>"
      ]
     },
     "metadata": {
      "needs_background": "light"
     },
     "output_type": "display_data"
    }
   ],
   "source": [
    "corr = diabetesDF.corr()\n",
    "print(corr)\n",
    "sns.heatmap(corr, xticklabels = corr.columns, yticklabels = corr.columns)"
   ]
  },
  {
   "cell_type": "code",
   "execution_count": 8,
   "metadata": {},
   "outputs": [],
   "source": [
    "#splitting data based on their rows\n",
    "trainDF = diabetesDF[:700]   \n",
    "testDF = diabetesDF[700:760]\n",
    "checkDF = diabetesDF[760:]"
   ]
  },
  {
   "cell_type": "code",
   "execution_count": 9,
   "metadata": {},
   "outputs": [],
   "source": [
    "#splitting coloumns as labels and features for training data and testing datas\n",
    "trainLabel = np.asarray(trainDF['Outcome'])\n",
    "trainData = np.asarray(trainDF.drop('Outcome', 1))\n",
    "testLabel = np.asarray(testDF['Outcome'])\n",
    "testData = np.asarray(testDF.drop('Outcome',1))"
   ]
  },
  {
   "cell_type": "code",
   "execution_count": 10,
   "metadata": {},
   "outputs": [],
   "source": [
    "#normalization-z score, each variable has 0 mean and sd of 1\n",
    "means = np.mean(trainData, axis=0)\n",
    "stds = np.std(trainData, axis=0)\n",
    "trainData = (trainData - means)/stds\n",
    "testData = (testData - means)/stds"
   ]
  },
  {
   "cell_type": "code",
   "execution_count": 11,
   "metadata": {},
   "outputs": [
    {
     "data": {
      "text/plain": [
       "LogisticRegression()"
      ]
     },
     "execution_count": 11,
     "metadata": {},
     "output_type": "execute_result"
    }
   ],
   "source": [
    "diabetesCheck = LogisticRegression()  \n",
    "diabetesCheck.fit(trainData, trainLabel) #trains the model"
   ]
  },
  {
   "cell_type": "code",
   "execution_count": 12,
   "metadata": {},
   "outputs": [
    {
     "name": "stdout",
     "output_type": "stream",
     "text": [
      "accuracy - 81.66666666666667\n"
     ]
    }
   ],
   "source": [
    "#test data is used to find out the accuracy of the model\n",
    "accuracy = diabetesCheck.score(testData, testLabel)\n",
    "print(\"accuracy -\", accuracy*100)"
   ]
  },
  {
   "cell_type": "code",
   "execution_count": 13,
   "metadata": {},
   "outputs": [
    {
     "data": {
      "text/plain": [
       "['diabetesModel-joblib.pkl']"
      ]
     },
     "execution_count": 13,
     "metadata": {},
     "output_type": "execute_result"
    }
   ],
   "source": [
    "#joblib is more useful over pickle when ther's a lot of numpy arrays\n",
    "jb.dump([diabetesCheck, means, stds], 'diabetesModel-joblib.pkl')"
   ]
  },
  {
   "cell_type": "code",
   "execution_count": 14,
   "metadata": {},
   "outputs": [
    {
     "name": "stdout",
     "output_type": "stream",
     "text": [
      "accuracy - 81.66666666666667\n"
     ]
    }
   ],
   "source": [
    "diabetesLoadedModel, means, stds = jb.load('diabetesModel-joblib.pkl')\n",
    "accuracyModel = diabetesLoadedModel.score(testData, testLabel)\n",
    "print(\"accuracy -\", accuracy*100)"
   ]
  },
  {
   "cell_type": "code",
   "execution_count": 15,
   "metadata": {},
   "outputs": [
    {
     "name": "stdout",
     "output_type": "stream",
     "text": [
      "     Pregnancies  Glucose  BloodPressure  SkinThickness     Insulin   BMI  \\\n",
      "760            2     88.0           58.0      26.000000   16.000000  28.4   \n",
      "761            9    170.0           74.0      31.000000   79.799479  44.0   \n",
      "762            9     89.0           62.0      20.536458   79.799479  22.5   \n",
      "763           10    101.0           76.0      48.000000  180.000000  32.9   \n",
      "764            2    122.0           70.0      27.000000   79.799479  36.8   \n",
      "\n",
      "     DiabetesPedigreeFunction  Age  Outcome  \n",
      "760                     0.766   22        0  \n",
      "761                     0.403   43        1  \n",
      "762                     0.142   33        0  \n",
      "763                     0.171   63        0  \n",
      "764                     0.340   27        0  \n"
     ]
    }
   ],
   "source": [
    "print(checkDF.head())"
   ]
  },
  {
   "cell_type": "code",
   "execution_count": 16,
   "metadata": {},
   "outputs": [
    {
     "name": "stdout",
     "output_type": "stream",
     "text": [
      "[[ 2.    88.    58.    26.    16.    28.4    0.766 22.   ]]\n",
      "[[-0.54347062 -1.09457056 -1.16600513 -0.05277365 -1.09318759 -0.5676853\n",
      "   0.86018327 -0.9446464 ]]\n",
      "Probability: [[0.91179795 0.08820205]]\n",
      "prediction: [0]\n"
     ]
    }
   ],
   "source": [
    "#we'll now use the first record to make our prediction\n",
    "\n",
    "sampleData = checkDF[:1]\n",
    "sampleDataFeatures = np.asarray(sampleData.drop('Outcome', 1))\n",
    "print(sampleDataFeatures)\n",
    "sampleDataFeatures = (sampleDataFeatures - means)/stds\n",
    "print(sampleDataFeatures)\n",
    "#sample\n",
    "\n",
    "predictionProbability = diabetesLoadedModel.predict_proba(sampleDataFeatures)\n",
    "prediction = diabetesLoadedModel.predict(sampleDataFeatures)\n",
    "print('Probability:', predictionProbability)\n",
    "print('prediction:', prediction)\n",
    "\n",
    "#The first element of array predictionProbability 0.91 is the probability of the class being 0 and second element 0.089 is the\n",
    "#probability of the class being 1. As we can see that 0 is more probable class, we get [0] as our prediction, which means that \n",
    "#the model predicts that the person doesn't have diabetes."
   ]
  },
  {
   "cell_type": "code",
   "execution_count": 17,
   "metadata": {},
   "outputs": [
    {
     "name": "stdout",
     "output_type": "stream",
     "text": [
      "Probability: [[0.9289859 0.0710141]]\n",
      "prediction: [0]\n",
      "You don't have diabetes\n"
     ]
    }
   ],
   "source": [
    "#making a prediction by using random set of values\n",
    "\n",
    "sampleData2 = [[1, 93, 70, 31, 0, 30.4, 0.315, 23]] \n",
    "sampleData2 = (sampleData2 - means)/stds # normalization\n",
    "\n",
    "predictionProbability = diabetesLoadedModel.predict_proba(sampleData2)\n",
    "prediction = diabetesLoadedModel.predict(sampleData2)\n",
    "print('Probability:', predictionProbability)\n",
    "print('prediction:', prediction)\n",
    "if prediction == 0:\n",
    "    print(\"You don't have diabetes\")\n",
    "else:\n",
    "    print(\"You have diabetes\")"
   ]
  },
  {
   "cell_type": "code",
   "execution_count": 18,
   "metadata": {},
   "outputs": [
    {
     "data": {
      "text/plain": [
       "KNeighborsClassifier()"
      ]
     },
     "execution_count": 18,
     "metadata": {},
     "output_type": "execute_result"
    }
   ],
   "source": [
    "#KNN\n",
    "diabetesCheck2 = KNeighborsClassifier()  \n",
    "diabetesCheck2.fit(trainData, trainLabel) #trains the model"
   ]
  },
  {
   "cell_type": "code",
   "execution_count": 19,
   "metadata": {},
   "outputs": [
    {
     "name": "stdout",
     "output_type": "stream",
     "text": [
      "accuracy - 75.0\n"
     ]
    }
   ],
   "source": [
    "accuracy = diabetesCheck2.score(testData, testLabel)\n",
    "print(\"accuracy -\", accuracy*100)"
   ]
  },
  {
   "cell_type": "code",
   "execution_count": 20,
   "metadata": {},
   "outputs": [
    {
     "data": {
      "text/plain": [
       "SVC()"
      ]
     },
     "execution_count": 20,
     "metadata": {},
     "output_type": "execute_result"
    }
   ],
   "source": [
    "#SVM\n",
    "diabetesCheck3 = SVC()  \n",
    "diabetesCheck3.fit(trainData, trainLabel) #trains the model"
   ]
  },
  {
   "cell_type": "code",
   "execution_count": 21,
   "metadata": {},
   "outputs": [
    {
     "name": "stdout",
     "output_type": "stream",
     "text": [
      "accuracy - 81.66666666666667\n"
     ]
    }
   ],
   "source": [
    "accuracy = diabetesCheck3.score(testData, testLabel)\n",
    "print(\"accuracy -\", accuracy*100)"
   ]
  },
  {
   "cell_type": "code",
   "execution_count": 22,
   "metadata": {},
   "outputs": [
    {
     "data": {
      "text/plain": [
       "GaussianNB()"
      ]
     },
     "execution_count": 22,
     "metadata": {},
     "output_type": "execute_result"
    }
   ],
   "source": [
    "#Naive Bayes\n",
    "diabetesCheck4 = GaussianNB()  \n",
    "diabetesCheck4.fit(trainData, trainLabel) #trains the model"
   ]
  },
  {
   "cell_type": "code",
   "execution_count": 23,
   "metadata": {},
   "outputs": [
    {
     "name": "stdout",
     "output_type": "stream",
     "text": [
      "accuracy - 73.33333333333333\n"
     ]
    }
   ],
   "source": [
    "accuracy = diabetesCheck4.score(testData, testLabel)\n",
    "print(\"accuracy -\", accuracy*100)"
   ]
  },
  {
   "cell_type": "code",
   "execution_count": 24,
   "metadata": {},
   "outputs": [
    {
     "data": {
      "text/plain": [
       "RandomForestClassifier()"
      ]
     },
     "execution_count": 24,
     "metadata": {},
     "output_type": "execute_result"
    }
   ],
   "source": [
    "#Random Forest\n",
    "diabetesCheck5 = RandomForestClassifier()  \n",
    "diabetesCheck5.fit(trainData, trainLabel) #trains the model"
   ]
  },
  {
   "cell_type": "code",
   "execution_count": 25,
   "metadata": {},
   "outputs": [
    {
     "name": "stdout",
     "output_type": "stream",
     "text": [
      "accuracy - 76.66666666666667\n"
     ]
    }
   ],
   "source": [
    "accuracy = diabetesCheck5.score(testData, testLabel)\n",
    "print(\"accuracy -\", accuracy*100)"
   ]
  },
  {
   "cell_type": "code",
   "execution_count": 26,
   "metadata": {},
   "outputs": [
    {
     "data": {
      "text/plain": [
       "DecisionTreeClassifier()"
      ]
     },
     "execution_count": 26,
     "metadata": {},
     "output_type": "execute_result"
    }
   ],
   "source": [
    "# Decision Tree\n",
    "diabetesCheck6 = DecisionTreeClassifier()  \n",
    "diabetesCheck6.fit(trainData, trainLabel) #trains the model"
   ]
  },
  {
   "cell_type": "code",
   "execution_count": 27,
   "metadata": {},
   "outputs": [
    {
     "name": "stdout",
     "output_type": "stream",
     "text": [
      "accuracy - 76.66666666666667\n"
     ]
    }
   ],
   "source": [
    "accuracy = diabetesCheck6.score(testData, testLabel)\n",
    "print(\"accuracy -\", accuracy*100)"
   ]
  },
  {
   "cell_type": "code",
   "execution_count": null,
   "metadata": {},
   "outputs": [],
   "source": []
  }
 ],
 "metadata": {
  "kernelspec": {
   "display_name": "Python 3",
   "language": "python",
   "name": "python3"
  },
  "language_info": {
   "codemirror_mode": {
    "name": "ipython",
    "version": 3
   },
   "file_extension": ".py",
   "mimetype": "text/x-python",
   "name": "python",
   "nbconvert_exporter": "python",
   "pygments_lexer": "ipython3",
   "version": "3.8.2"
  }
 },
 "nbformat": 4,
 "nbformat_minor": 4
}
